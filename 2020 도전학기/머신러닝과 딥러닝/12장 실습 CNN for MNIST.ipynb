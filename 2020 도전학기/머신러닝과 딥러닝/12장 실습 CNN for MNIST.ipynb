{
 "cells": [
  {
   "cell_type": "code",
   "execution_count": 1,
   "metadata": {},
   "outputs": [],
   "source": [
    "from __future__ import print_function\n",
    "import tensorflow as tf\n",
    "from tensorflow import keras\n",
    "from tensorflow.keras.datasets import mnist\n",
    "from tensorflow.keras.models import Sequential\n",
    "from tensorflow.keras.layers import Dense,Dropout,Flatten\n",
    "from tensorflow.keras.layers import Conv2D, MaxPooling2D\n",
    "from tensorflow.keras import backend as K\n",
    "from tensorflow.keras.utils import to_categorical"
   ]
  },
  {
   "cell_type": "code",
   "execution_count": 2,
   "metadata": {},
   "outputs": [],
   "source": [
    "batch_size = 128\n",
    "num_classes = 10\n",
    "epoch = 12"
   ]
  },
  {
   "cell_type": "code",
   "execution_count": 3,
   "metadata": {},
   "outputs": [],
   "source": [
    "img_rows, img_cols = 28,28\n",
    "(x_train,y_train),(x_test,y_test) = mnist.load_data()\n",
    "if K.image_data_format() == 'channels_first':\n",
    "  x_train = x_train.reshape(x_train.shape[0],1,img_rows,img_cols)\n",
    "  x_test = x_test.reshape(x_test.shape[0],1,img_rows,img_cols)\n",
    "  input_shape = (1,img_rows,img_cols)\n",
    "else: \n",
    "  x_train = x_train.reshape(x_train.shape[0],img_rows,img_cols,1)\n",
    "  x_test = x_test.reshape(x_test.shape[0],img_rows,img_cols,1)\n",
    "  input_shape = (img_rows,img_cols,1)"
   ]
  },
  {
   "cell_type": "code",
   "execution_count": 4,
   "metadata": {},
   "outputs": [],
   "source": [
    "x_train=x_train.astype('float32')/255\n",
    "x_test=x_test.astype('float32')/255\n",
    "\n",
    "y_train = to_categorical(y_train,num_classes)\n",
    "y_test = to_categorical(y_test,num_classes)"
   ]
  },
  {
   "cell_type": "code",
   "execution_count": 5,
   "metadata": {},
   "outputs": [],
   "source": [
    "model = Sequential()\n",
    "model.add(Conv2D(32, kernel_size=(3,3),\n",
    "                 activation='relu',\n",
    "                 input_shape=input_shape))\n",
    "model.add(MaxPooling2D(pool_size=(2,2)))\n",
    "model.add(Dropout(0.25))\n",
    "model.add(Flatten())\n",
    "model.add(Dense(128, activation='relu'))\n",
    "model.add(Dropout(0.5))\n",
    "model.add(Dense(num_classes, activation='softmax'))"
   ]
  },
  {
   "cell_type": "code",
   "execution_count": 6,
   "metadata": {},
   "outputs": [],
   "source": [
    "model.compile(loss=keras.losses.categorical_crossentropy,\n",
    "              optimizer=keras.optimizers.Adadelta(),\n",
    "              metrics=['accuracy'])"
   ]
  },
  {
   "cell_type": "code",
   "execution_count": 7,
   "metadata": {},
   "outputs": [
    {
     "name": "stdout",
     "output_type": "stream",
     "text": [
      "Train on 60000 samples\n",
      "Epoch 1/12\n",
      "60000/60000 [==============================] - 19s 316us/sample - loss: 2.2887 - accuracy: 0.1220\n",
      "Epoch 2/12\n",
      "60000/60000 [==============================] - 19s 313us/sample - loss: 2.2503 - accuracy: 0.1937\n",
      "Epoch 3/12\n",
      "60000/60000 [==============================] - 19s 317us/sample - loss: 2.2101 - accuracy: 0.2667\n",
      "Epoch 4/12\n",
      "60000/60000 [==============================] - 20s 326us/sample - loss: 2.1672 - accuracy: 0.3307\n",
      "Epoch 5/12\n",
      "60000/60000 [==============================] - 19s 315us/sample - loss: 2.1192 - accuracy: 0.3892\n",
      "Epoch 6/12\n",
      "60000/60000 [==============================] - 19s 317us/sample - loss: 2.0666 - accuracy: 0.4345\n",
      "Epoch 7/12\n",
      "60000/60000 [==============================] - 18s 307us/sample - loss: 2.0121 - accuracy: 0.4718\n",
      "Epoch 8/12\n",
      "60000/60000 [==============================] - 18s 299us/sample - loss: 1.9541 - accuracy: 0.5031\n",
      "Epoch 9/12\n",
      "60000/60000 [==============================] - 19s 313us/sample - loss: 1.8896 - accuracy: 0.5336\n",
      "Epoch 10/12\n",
      "60000/60000 [==============================] - 19s 315us/sample - loss: 1.8237 - accuracy: 0.5603\n",
      "Epoch 11/12\n",
      "60000/60000 [==============================] - 19s 310us/sample - loss: 1.7578 - accuracy: 0.5823\n",
      "Epoch 12/12\n",
      "60000/60000 [==============================] - 19s 308us/sample - loss: 1.6869 - accuracy: 0.6025\n"
     ]
    },
    {
     "data": {
      "text/plain": [
       "<tensorflow.python.keras.callbacks.History at 0x7f99fd869290>"
      ]
     },
     "execution_count": 7,
     "metadata": {},
     "output_type": "execute_result"
    }
   ],
   "source": [
    "model.fit(x_train,y_train,\n",
    "          batch_size=batch_size,\n",
    "          epochs = epoch,\n",
    "          verbose=1)"
   ]
  },
  {
   "cell_type": "code",
   "execution_count": 8,
   "metadata": {},
   "outputs": [
    {
     "name": "stdout",
     "output_type": "stream",
     "text": [
      "Test loss :  1.5780675378799438\n",
      "Test acc :  0.7814\n"
     ]
    }
   ],
   "source": [
    "score=model.evaluate(x_test,y_test,verbose=0)\n",
    "print('Test loss : ',score[0])\n",
    "print('Test acc : ',score[1])"
   ]
  },
  {
   "cell_type": "code",
   "execution_count": 9,
   "metadata": {},
   "outputs": [],
   "source": [
    "model2 = Sequential()\n",
    "model2.add(Conv2D(32, kernel_size=(3,3),\n",
    "                 activation='relu',\n",
    "                 input_shape=input_shape))\n",
    "model2.add(Conv2D(32,(3,3),activation='relu'))\n",
    "model2.add(MaxPooling2D(pool_size=(2,2)))\n",
    "model2.add(Dropout(0.25))\n",
    "model2.add(Flatten())\n",
    "model2.add(Dense(128, activation='relu'))\n",
    "model2.add(Dropout(0.5))\n",
    "model2.add(Dense(num_classes, activation='softmax'))"
   ]
  },
  {
   "cell_type": "code",
   "execution_count": null,
   "metadata": {},
   "outputs": [
    {
     "name": "stdout",
     "output_type": "stream",
     "text": [
      "Train on 60000 samples\n",
      "Epoch 1/12\n",
      "60000/60000 [==============================] - 38s 630us/sample - loss: 2.2881 - accuracy: 0.1360\n",
      "Epoch 2/12\n",
      "60000/60000 [==============================] - 36s 596us/sample - loss: 2.2380 - accuracy: 0.2086\n",
      "Epoch 3/12\n",
      "60000/60000 [==============================] - 35s 589us/sample - loss: 2.1826 - accuracy: 0.2850\n",
      "Epoch 4/12\n",
      "60000/60000 [==============================] - 36s 593us/sample - loss: 2.1158 - accuracy: 0.3577\n",
      "Epoch 5/12\n",
      "60000/60000 [==============================] - 35s 590us/sample - loss: 2.0360 - accuracy: 0.4229\n",
      "Epoch 6/12\n",
      "60000/60000 [==============================] - 36s 594us/sample - loss: 1.9333 - accuracy: 0.4794\n",
      "Epoch 7/12\n",
      "60000/60000 [==============================] - 36s 594us/sample - loss: 1.8189 - accuracy: 0.5238\n",
      "Epoch 8/12\n",
      "60000/60000 [==============================] - 36s 594us/sample - loss: 1.6939 - accuracy: 0.5544\n",
      "Epoch 9/12\n",
      "60000/60000 [==============================] - 310s 5ms/sample - loss: 1.5637 - accuracy: 0.5841\n",
      "Epoch 10/12\n",
      "41728/60000 [===================>..........] - ETA: 10s - loss: 1.4576 - accuracy: 0.6057"
     ]
    }
   ],
   "source": [
    "model2.compile(loss=keras.losses.categorical_crossentropy,\n",
    "              optimizer=keras.optimizers.Adadelta(),\n",
    "              metrics=['accuracy'])\n",
    "model2.fit(x_train,y_train,\n",
    "          batch_size=batch_size,\n",
    "          epochs = epoch,\n",
    "          verbose=1)\n",
    "score=model2.evaluate(x_test,y_test,verbose=0)\n",
    "print('Test loss : ',score[0])\n",
    "print('Test acc : ',score[1])"
   ]
  },
  {
   "cell_type": "code",
   "execution_count": null,
   "metadata": {},
   "outputs": [],
   "source": []
  }
 ],
 "metadata": {
  "kernelspec": {
   "display_name": "Python 3",
   "language": "python",
   "name": "python3"
  },
  "language_info": {
   "codemirror_mode": {
    "name": "ipython",
    "version": 3
   },
   "file_extension": ".py",
   "mimetype": "text/x-python",
   "name": "python",
   "nbconvert_exporter": "python",
   "pygments_lexer": "ipython3",
   "version": "3.7.6"
  }
 },
 "nbformat": 4,
 "nbformat_minor": 4
}
